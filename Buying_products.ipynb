{
  "nbformat": 4,
  "nbformat_minor": 0,
  "metadata": {
    "colab": {
      "name": "Buying products.ipynb",
      "provenance": [],
      "collapsed_sections": []
    },
    "kernelspec": {
      "name": "python3",
      "display_name": "Python 3"
    },
    "language_info": {
      "name": "python"
    }
  },
  "cells": [
    {
      "cell_type": "code",
      "metadata": {
        "id": "xRc82x9js3yZ"
      },
      "source": [
        "import json"
      ],
      "execution_count": 1,
      "outputs": []
    },
    {
      "cell_type": "code",
      "metadata": {
        "id": "6JGClgugbm8Q"
      },
      "source": [
        "import time"
      ],
      "execution_count": 2,
      "outputs": []
    },
    {
      "cell_type": "code",
      "metadata": {
        "id": "3JRsrZr9bttV"
      },
      "source": [
        "t=time.ctime()"
      ],
      "execution_count": 3,
      "outputs": []
    },
    {
      "cell_type": "code",
      "metadata": {
        "id": "vLMsq2F9s4Cf"
      },
      "source": [
        "fd=open(\"record.json\",'r')\n",
        "r=fd.read()\n",
        "fd.close()\n",
        "items=json.loads(r)"
      ],
      "execution_count": 5,
      "outputs": []
    },
    {
      "cell_type": "code",
      "metadata": {
        "colab": {
          "base_uri": "https://localhost:8080/"
        },
        "id": "SACY31qTurw2",
        "outputId": "9496cf57-f317-4378-91b2-99bc55867b1f"
      },
      "source": [
        "items"
      ],
      "execution_count": 20,
      "outputs": [
        {
          "output_type": "execute_result",
          "data": {
            "text/plain": [
              "{'11101': {'Amount': 15, 'Product': 'Cookies', 'Quantity': 40},\n",
              " '11102': {'Amount': 30, 'Product': 'Coca Cola', 'Quantity': 20},\n",
              " '11103': {'Amount': 5, 'Product': 'Lays', 'Quantity': 100},\n",
              " '11104': {'Amount': 100, 'Product': 'Cappuccino', 'Quantity': 10},\n",
              " '11105': {'Amount': 50, 'Product': 'Brownies', 'Quantity': 30},\n",
              " '11106': {'Amount': 10, 'Product': 'Chocolate', 'Quantity': 80},\n",
              " '11107': {'Amount': 250, 'Product': 'Pizza', 'Quantity': 6},\n",
              " '11108': {'Amount': 199, 'Product': 'Burger', 'Quantity': 10},\n",
              " '11109': {'Amount': 100, 'Product': 'Icecream', 'Quantity': 40},\n",
              " '11110': {'Amount': 200, 'Product': 'Cake', 'Quantity': 20},\n",
              " '11111': {'Amount': 80, 'Product': 'Sandwhich', 'Quantity': 28},\n",
              " '11112': {'Amount': 120, 'Product': 'Donut', 'Quantity': 15},\n",
              " '11113': {'Amount': 40, 'Product': 'Milkshake', 'Quantity': 25},\n",
              " '11114': {'Amount': 20, 'Product': 'Wafersticks', 'Quantity': 75},\n",
              " '11115': {'Amount': 200, 'Product': 'Frenchfries', 'Quantity': 94},\n",
              " '11116': {'Amount': 148, 'Product': 'Pringles', 'Quantity': 35},\n",
              " '11117': {'Amount': 40, 'Product': 'Popcorn', 'Quantity': 17},\n",
              " '11118': {'Amount': 28, 'Product': 'Noodles', 'Quantity': 8},\n",
              " '11119': {'Amount': 100, 'Product': 'Pancake', 'Quantity': 13},\n",
              " '11120': {'Amount': 250, 'Product': 'Jelly', 'Quantity': 33},\n",
              " '11121': {'Amount': 75, 'Product': 'Pastry', 'Quantity': 5},\n",
              " '11122': {'Amount': 270, 'Product': 'Gulab jamun', 'Quantity': 48},\n",
              " '11123': {'Amount': 500, 'Product': 'Spaghetti', 'Quantity': 27},\n",
              " '11124': {'Amount': 170, 'Product': 'Jam', 'Quantity': 56},\n",
              " '11125': {'Amount': 110, 'Product': 'Pasta', 'Quantity': 4},\n",
              " '11126': {'Amount': 150, 'Product': 'Nachos', 'Quantity': 50},\n",
              " '11127': {'Amount': 90, 'Product': 'Sausages', 'Quantity': 44},\n",
              " '11128': {'Amount': 100, 'Product': 'Kebab', 'Quantity': 10},\n",
              " '11129': {'Amount': 130, 'Product': 'Tacos', 'Quantity': 16},\n",
              " '11130': {'Amount': 145, 'Product': 'Lavacake', 'Quantity': 8},\n",
              " '11131': {'Amount': 140, 'Quantity': 17, 'product': 'Smoothie'}}"
            ]
          },
          "metadata": {},
          "execution_count": 20
        }
      ]
    },
    {
      "cell_type": "code",
      "metadata": {
        "colab": {
          "base_uri": "https://localhost:8080/"
        },
        "id": "dvyhhQAFRRNY",
        "outputId": "017b86a3-b80e-4067-86e9-a7e544f75e1c"
      },
      "source": [
        "items.keys()"
      ],
      "execution_count": 7,
      "outputs": [
        {
          "output_type": "execute_result",
          "data": {
            "text/plain": [
              "dict_keys(['11101', '11102', '11103', '11104', '11105', '11106', '11107', '11108', '11109', '11110', '11111', '11112', '11113', '11114', '11115', '11116', '11117', '11118', '11119', '11120', '11121', '11122', '11123', '11124', '11125', '11126', '11127', '11128', '11129', '11130', '11131'])"
            ]
          },
          "metadata": {},
          "execution_count": 7
        }
      ]
    },
    {
      "cell_type": "code",
      "metadata": {
        "id": "3sEEmPBiusg4",
        "colab": {
          "base_uri": "https://localhost:8080/"
        },
        "outputId": "cb784ac4-1977-4c67-b88c-e52762286408"
      },
      "source": [
        "print(\"-------------------------------------------\")\n",
        "ui_product=str(input(\"Enter the product ID:\"))\n",
        "ui_quantity=int(input(\"Enter the quantity:\"))\n",
        "print(\"----------------------------------------\")\n",
        "print(\"Expiry date:\",t)\n",
        "print(\"--------------------------------------------\")\n",
        "if((ui_product in items.keys())and (ui_quantity <= (items[ui_product]['Quantity']))):\n",
        "    print(\"Product:\",items[ui_product]['Product'])\n",
        "    print(\"Amount:\",items[ui_product]['Amount'])\n",
        "    print(\"Billing Amount:\",items[ui_product]['Amount']*ui_quantity)\n",
        "    print(\"----------------------------------------\")\n",
        "    items[ui_product]['Quantity']=items[ui_product]['Quantity']-ui_quantity\n",
        "elif((ui_product in items.keys())and(ui_quantity > (items[ui_product]['Quantity']))):\n",
        "  print(\"Product:\",items[ui_product]['Product'])\n",
        "  print(\"Updated_Quantity:\",items[ui_product]['Quantity']+ui_quantity)\n",
        "  items[ui_product]['Quantity']=items[ui_product]['Quantity']+ui_quantity\n",
        "else:\n",
        "  print(\"Product is not available\")\n",
        "\n",
        "print(\"Thank you for shopping\")\n",
        "\n",
        "\n"
      ],
      "execution_count": 33,
      "outputs": [
        {
          "output_type": "stream",
          "name": "stdout",
          "text": [
            "-------------------------------------------\n",
            "Enter the product ID:11106\n",
            "Enter the quantity:12\n",
            "----------------------------------------\n",
            "Expiry date: Mon Sep  6 06:45:35 2021\n",
            "--------------------------------------------\n",
            "Product: Chocolate\n",
            "Amount: 10\n",
            "Billing Amount: 120\n",
            "----------------------------------------\n",
            "Thank you for shopping\n"
          ]
        }
      ]
    },
    {
      "cell_type": "code",
      "metadata": {
        "colab": {
          "base_uri": "https://localhost:8080/"
        },
        "id": "hdbTjIdjToL9",
        "outputId": "5bffad6f-6d55-4c8f-bbe5-bfae30a6278d"
      },
      "source": [
        "items"
      ],
      "execution_count": 34,
      "outputs": [
        {
          "output_type": "execute_result",
          "data": {
            "text/plain": [
              "{'11101': {'Amount': 15, 'Product': 'Cookies', 'Quantity': 40},\n",
              " '11102': {'Amount': 30, 'Product': 'Coca Cola', 'Quantity': 20},\n",
              " '11103': {'Amount': 5, 'Product': 'Lays', 'Quantity': 100},\n",
              " '11104': {'Amount': 100, 'Product': 'Cappuccino', 'Quantity': 10},\n",
              " '11105': {'Amount': 50, 'Product': 'Brownies', 'Quantity': 30},\n",
              " '11106': {'Amount': 10, 'Product': 'Chocolate', 'Quantity': 68},\n",
              " '11107': {'Amount': 250, 'Product': 'Pizza', 'Quantity': 6},\n",
              " '11108': {'Amount': 199, 'Product': 'Burger', 'Quantity': 10},\n",
              " '11109': {'Amount': 100, 'Product': 'Icecream', 'Quantity': 40},\n",
              " '11110': {'Amount': 200, 'Product': 'Cake', 'Quantity': 20},\n",
              " '11111': {'Amount': 80, 'Product': 'Sandwhich', 'Quantity': 28},\n",
              " '11112': {'Amount': 120, 'Product': 'Donut', 'Quantity': 15},\n",
              " '11113': {'Amount': 40, 'Product': 'Milkshake', 'Quantity': 25},\n",
              " '11114': {'Amount': 20, 'Product': 'Wafersticks', 'Quantity': 75},\n",
              " '11115': {'Amount': 200, 'Product': 'Frenchfries', 'Quantity': 89},\n",
              " '11116': {'Amount': 148, 'Product': 'Pringles', 'Quantity': 35},\n",
              " '11117': {'Amount': 40, 'Product': 'Popcorn', 'Quantity': 17},\n",
              " '11118': {'Amount': 28, 'Product': 'Noodles', 'Quantity': 8},\n",
              " '11119': {'Amount': 100, 'Product': 'Pancake', 'Quantity': 13},\n",
              " '11120': {'Amount': 250, 'Product': 'Jelly', 'Quantity': 33},\n",
              " '11121': {'Amount': 75, 'Product': 'Pastry', 'Quantity': 5},\n",
              " '11122': {'Amount': 270, 'Product': 'Gulab jamun', 'Quantity': 48},\n",
              " '11123': {'Amount': 500, 'Product': 'Spaghetti', 'Quantity': 27},\n",
              " '11124': {'Amount': 170, 'Product': 'Jam', 'Quantity': 46},\n",
              " '11125': {'Amount': 110, 'Product': 'Pasta', 'Quantity': 4},\n",
              " '11126': {'Amount': 150, 'Product': 'Nachos', 'Quantity': 50},\n",
              " '11127': {'Amount': 90, 'Product': 'Sausages', 'Quantity': 44},\n",
              " '11128': {'Amount': 100, 'Product': 'Kebab', 'Quantity': 10},\n",
              " '11129': {'Amount': 130, 'Product': 'Tacos', 'Quantity': 16},\n",
              " '11130': {'Amount': 145, 'Product': 'Lavacake', 'Quantity': 8},\n",
              " '11131': {'Amount': 140, 'Quantity': 17, 'product': 'Smoothie'}}"
            ]
          },
          "metadata": {},
          "execution_count": 34
        }
      ]
    },
    {
      "cell_type": "code",
      "metadata": {
        "id": "1rxaAMK6Tobe"
      },
      "source": [
        "js=json.dumps(items)\n",
        "fd=open(\"record.json\",'w')\n",
        "fd.write(js)\n",
        "fd.close()"
      ],
      "execution_count": 35,
      "outputs": []
    },
    {
      "cell_type": "code",
      "metadata": {
        "colab": {
          "base_uri": "https://localhost:8080/"
        },
        "id": "h7QKl1ncH3yL",
        "outputId": "38d8bb44-df8f-4d7d-a2e2-7c55a30b65e2"
      },
      "source": [
        "ID=int(input(\"Enter Transaction ID:\"))\n",
        "sales={ID:{'Product ID':ui_product,'Quantity':ui_quantity,'Amount':items[ui_product]['Amount']*ui_quantity }}\n",
        "print(sales)\n"
      ],
      "execution_count": 36,
      "outputs": [
        {
          "output_type": "stream",
          "name": "stdout",
          "text": [
            "Enter Transaction ID:5\n",
            "{5: {'Product ID': '11106', 'Quantity': 12, 'Amount': 120}}\n"
          ]
        }
      ]
    },
    {
      "cell_type": "code",
      "metadata": {
        "id": "pzQLunQcrfcf"
      },
      "source": [
        "sale=json.dumps(sales)\n",
        "fd=open(\"sales.json\",'a')\n",
        "r=fd.write(sale)\n",
        "fd.close()"
      ],
      "execution_count": 37,
      "outputs": []
    },
    {
      "cell_type": "code",
      "metadata": {
        "colab": {
          "base_uri": "https://localhost:8080/",
          "height": 35
        },
        "id": "VXCaJA_1_wM2",
        "outputId": "9af58056-a0ec-4512-9f77-3f2b6cf9d846"
      },
      "source": [
        "sale"
      ],
      "execution_count": 38,
      "outputs": [
        {
          "output_type": "execute_result",
          "data": {
            "application/vnd.google.colaboratory.intrinsic+json": {
              "type": "string"
            },
            "text/plain": [
              "'{\"5\": {\"Product ID\": \"11106\", \"Quantity\": 12, \"Amount\": 120}}'"
            ]
          },
          "metadata": {},
          "execution_count": 38
        }
      ]
    }
  ]
}