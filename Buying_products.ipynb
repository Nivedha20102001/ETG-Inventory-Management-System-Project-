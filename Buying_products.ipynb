{
  "nbformat": 4,
  "nbformat_minor": 0,
  "metadata": {
    "colab": {
      "name": "Buying products.ipynb",
      "provenance": [],
      "collapsed_sections": []
    },
    "kernelspec": {
      "name": "python3",
      "display_name": "Python 3"
    },
    "language_info": {
      "name": "python"
    }
  },
  "cells": [
    {
      "cell_type": "code",
      "metadata": {
        "id": "xRc82x9js3yZ"
      },
      "source": [
        "import json"
      ],
      "execution_count": 22,
      "outputs": []
    },
    {
      "cell_type": "code",
      "metadata": {
        "id": "6JGClgugbm8Q"
      },
      "source": [
        "import time"
      ],
      "execution_count": 23,
      "outputs": []
    },
    {
      "cell_type": "code",
      "metadata": {
        "id": "3JRsrZr9bttV"
      },
      "source": [
        "t=time.ctime()"
      ],
      "execution_count": 24,
      "outputs": []
    },
    {
      "cell_type": "code",
      "metadata": {
        "id": "vLMsq2F9s4Cf"
      },
      "source": [
        "fd=open(\"record.json\",'r')\n",
        "r=fd.read()\n",
        "fd.close()\n",
        "items=json.loads(r)"
      ],
      "execution_count": 25,
      "outputs": []
    },
    {
      "cell_type": "code",
      "metadata": {
        "id": "LyGsfuLfIeHv"
      },
      "source": [
        "sales = {}\n",
        "\n",
        "sales = json.dumps(sales)\n",
        "\n",
        "fd = open(\"sales.json\", 'w')\n",
        "fd.write(sales)\n",
        "fd.close()"
      ],
      "execution_count": 26,
      "outputs": []
    },
    {
      "cell_type": "code",
      "metadata": {
        "id": "YfNyf82dIubP"
      },
      "source": [
        "fd = open(\"sales.json\", 'r')\n",
        "a = fd.read()\n",
        "fd.close()\n",
        "sales = json.loads(a)"
      ],
      "execution_count": 27,
      "outputs": []
    },
    {
      "cell_type": "code",
      "metadata": {
        "colab": {
          "base_uri": "https://localhost:8080/"
        },
        "id": "SACY31qTurw2",
        "outputId": "7aa1205a-88ce-4a63-ea9f-70992419fa0d"
      },
      "source": [
        "items"
      ],
      "execution_count": 28,
      "outputs": [
        {
          "output_type": "execute_result",
          "data": {
            "text/plain": [
              "{'11101': {'Amount': 15, 'Product': 'Cookies', 'Quantity': 40},\n",
              " '11102': {'Amount': 30, 'Product': 'Coca Cola', 'Quantity': 20},\n",
              " '11103': {'Amount': 5, 'Product': 'Lays', 'Quantity': 100},\n",
              " '11104': {'Amount': 100, 'Product': 'Cappuccino', 'Quantity': 10},\n",
              " '11105': {'Amount': 50, 'Product': 'Brownies', 'Quantity': 30},\n",
              " '11106': {'Amount': 10, 'Product': 'Chocolate', 'Quantity': 80},\n",
              " '11107': {'Amount': 250, 'Product': 'Pizza', 'Quantity': 6},\n",
              " '11108': {'Amount': 199, 'Product': 'Burger', 'Quantity': 10},\n",
              " '11109': {'Amount': 100, 'Product': 'Icecream', 'Quantity': 34},\n",
              " '11110': {'Amount': 200, 'Product': 'Cake', 'Quantity': 20},\n",
              " '11111': {'Amount': 80, 'Product': 'Sandwhich', 'Quantity': 30},\n",
              " '11112': {'Amount': 120, 'Product': 'Donut', 'Quantity': 15},\n",
              " '11113': {'Amount': 40, 'Product': 'Milkshake', 'Quantity': 25},\n",
              " '11114': {'Amount': 20, 'Product': 'Wafersticks', 'Quantity': 75},\n",
              " '11115': {'Amount': 200, 'Product': 'Frenchfries', 'Quantity': 94},\n",
              " '11116': {'Amount': 148, 'Product': 'Pringles', 'Quantity': 35},\n",
              " '11117': {'Amount': 40, 'Product': 'Popcorn', 'Quantity': 22},\n",
              " '11118': {'Amount': 28, 'Product': 'Noodles', 'Quantity': 8},\n",
              " '11119': {'Amount': 100, 'Product': 'Pancake', 'Quantity': 13},\n",
              " '11120': {'Amount': 250, 'Product': 'Jelly', 'Quantity': 33},\n",
              " '11121': {'Amount': 75, 'Product': 'Pastry', 'Quantity': 5},\n",
              " '11122': {'Amount': 270, 'Product': 'Gulab jamun', 'Quantity': 48},\n",
              " '11123': {'Amount': 500, 'Product': 'Spaghetti', 'Quantity': 27},\n",
              " '11124': {'Amount': 170, 'Product': 'Jam', 'Quantity': 56},\n",
              " '11125': {'Amount': 110, 'Product': 'Pasta', 'Quantity': 4},\n",
              " '11126': {'Amount': 150, 'Product': 'Nachos', 'Quantity': 45},\n",
              " '11127': {'Amount': 90, 'Product': 'Sausages', 'Quantity': 44},\n",
              " '11128': {'Amount': 100, 'Product': 'Kebab', 'Quantity': 10},\n",
              " '11129': {'Amount': 130, 'Product': 'Tacos', 'Quantity': 16},\n",
              " '11130': {'Amount': 145, 'Product': 'Lavacake', 'Quantity': 8},\n",
              " '11131': {'Amount': 140, 'Quantity': 17, 'product': 'Smoothie'}}"
            ]
          },
          "metadata": {},
          "execution_count": 28
        }
      ]
    },
    {
      "cell_type": "code",
      "metadata": {
        "colab": {
          "base_uri": "https://localhost:8080/"
        },
        "id": "dvyhhQAFRRNY",
        "outputId": "54d07f17-7165-4630-ad44-3705da4c8176"
      },
      "source": [
        "items.keys()"
      ],
      "execution_count": 29,
      "outputs": [
        {
          "output_type": "execute_result",
          "data": {
            "text/plain": [
              "dict_keys(['11101', '11102', '11103', '11104', '11105', '11106', '11107', '11108', '11109', '11110', '11111', '11112', '11113', '11114', '11115', '11116', '11117', '11118', '11119', '11120', '11121', '11122', '11123', '11124', '11125', '11126', '11127', '11128', '11129', '11130', '11131'])"
            ]
          },
          "metadata": {},
          "execution_count": 29
        }
      ]
    },
    {
      "cell_type": "code",
      "metadata": {
        "id": "3sEEmPBiusg4",
        "colab": {
          "base_uri": "https://localhost:8080/"
        },
        "outputId": "89e6aa26-ff2c-4147-9e95-73bf2d757706"
      },
      "source": [
        "for i in items.keys():\n",
        "  print(i, items[i])\n",
        "print(\"-------------------------------------------\")\n",
        "ui_product=str(input(\"Enter the product ID:\"))\n",
        "ui_quantity=int(input(\"Enter the quantity:\"))\n",
        "print(\"----------------------------------------\")\n",
        "print(\"Expiry date:\",t)\n",
        "print(\"--------------------------------------------\")\n",
        "if (ui_product in items.keys()):                                                     \n",
        "    if (items[ui_product]['Quantity'] >= ui_quantity):\n",
        "      print(\"Product:\",items[ui_product]['Product'])\n",
        "      print(\"Amount:\",items[ui_product]['Amount'])\n",
        "      print(\"Billing Amount:\",items[ui_product]['Amount']*ui_quantity)\n",
        "      print(\"----------------------------------------\")\n",
        "\n",
        "      items[ui_product]['Quantity']=items[ui_product]['Quantity']-ui_quantity\n",
        "\n",
        "      sales[str(len(sales)+1)] = {'product_id' : ui_product,                          \n",
        "                                  \"Time\" :  time.ctime(), \n",
        "                                  'Bill' : items[ui_product]['Amount'] * ui_quantity, \n",
        "                                  'quantity' : ui_quantity, \n",
        "                                  'price' : items[ui_product]['Amount'], \n",
        "                                  'product_name' : items[ui_product]['Product']}\n",
        "\n",
        "    else: \n",
        "      print(\"Sorry, We are not having that much of quantity.\")\n",
        "      print(\"We're only having\",items[ui_product]['Quantity'],\"quantity.\")\n",
        "      print(\"Would you like to purchase or not (Y/N)\")\n",
        "      ch = str(input(\"Y/N\"))\n",
        "\n",
        "      if (ch == \"Y\"):                                                           \n",
        "             print(\"Product:\",items[ui_product]['Product'])\n",
        "             print(\"Amount:\",items[ui_product]['Amount'])\n",
        "             print(\"Billing Amount:\",items[ui_product]['Amount']*ui_quantity)\n",
        "             print(\"----------------------------------------\")\n",
        "\n",
        "\n",
        "             items[ui_product]['Quantity'] = 0  \n",
        "\n",
        "             sales[str(len(sales)+1)] = {'Product' : ui_product,                        \n",
        "                                    \"Time\" :  time.ctime(), \n",
        "                                    'Bill' : items[ui_product]['pr'] * items[ui_product]['Quantity'], \n",
        "                                    'quantity' : items[ui_product]['Quantity'], \n",
        "                                    'price' : items[ui_product]['Amount'], \n",
        "                                    'product_name' : items[ui_product]['name']}                                         \n",
        "\n",
        "      else:\n",
        "         print(\"Thank You!\")   \n",
        "           \n",
        "else:                                                                           \n",
        "   print(\"------------------------------\")\n",
        "   print(\"Product doesn't exist!\")\n",
        "   print(\"Please enter a valid product id\")\n",
        "   print(\"------------------------------\")\n",
        "\n",
        "a = json.dumps(sales)                                                          \n",
        "fd = open('sales.json','w')\n",
        "fd.write(a)\n",
        "fd.close()\n",
        "\n",
        "print(\"------------------------------\")\n",
        "print(\"Data Updated in Sales File!\")\n",
        "\n",
        "js = json.dumps(items)                                                            \n",
        "fd = open('record.json','w')\n",
        "fd.write(js)\n",
        "fd.close()\n",
        "\n",
        "print(\"Data Updated in Inventory File!\")\n",
        "\n",
        "\n",
        "\n",
        "\n"
      ],
      "execution_count": 36,
      "outputs": [
        {
          "output_type": "stream",
          "name": "stdout",
          "text": [
            "11101 {'Amount': 15, 'Product': 'Cookies', 'Quantity': 40}\n",
            "11102 {'Amount': 30, 'Product': 'Coca Cola', 'Quantity': 20}\n",
            "11103 {'Amount': 5, 'Product': 'Lays', 'Quantity': 100}\n",
            "11104 {'Amount': 100, 'Product': 'Cappuccino', 'Quantity': 10}\n",
            "11105 {'Amount': 50, 'Product': 'Brownies', 'Quantity': 30}\n",
            "11106 {'Amount': 10, 'Product': 'Chocolate', 'Quantity': 68}\n",
            "11107 {'Amount': 250, 'Product': 'Pizza', 'Quantity': 6}\n",
            "11108 {'Amount': 199, 'Product': 'Burger', 'Quantity': 10}\n",
            "11109 {'Amount': 100, 'Product': 'Icecream', 'Quantity': 34}\n",
            "11110 {'Amount': 200, 'Product': 'Cake', 'Quantity': 20}\n",
            "11111 {'Amount': 80, 'Product': 'Sandwhich', 'Quantity': 30}\n",
            "11112 {'Amount': 120, 'Product': 'Donut', 'Quantity': 15}\n",
            "11113 {'Amount': 40, 'Product': 'Milkshake', 'Quantity': 25}\n",
            "11114 {'Amount': 20, 'Product': 'Wafersticks', 'Quantity': 67}\n",
            "11115 {'Amount': 200, 'Product': 'Frenchfries', 'Quantity': 94}\n",
            "11116 {'Amount': 148, 'Product': 'Pringles', 'Quantity': 35}\n",
            "11117 {'Amount': 40, 'Product': 'Popcorn', 'Quantity': 22}\n",
            "11118 {'Amount': 28, 'Product': 'Noodles', 'Quantity': 8}\n",
            "11119 {'Amount': 100, 'Product': 'Pancake', 'Quantity': 13}\n",
            "11120 {'Amount': 250, 'Product': 'Jelly', 'Quantity': 33}\n",
            "11121 {'Amount': 75, 'Product': 'Pastry', 'Quantity': 5}\n",
            "11122 {'Amount': 270, 'Product': 'Gulab jamun', 'Quantity': 48}\n",
            "11123 {'Amount': 500, 'Product': 'Spaghetti', 'Quantity': 27}\n",
            "11124 {'Amount': 170, 'Product': 'Jam', 'Quantity': 56}\n",
            "11125 {'Amount': 110, 'Product': 'Pasta', 'Quantity': 4}\n",
            "11126 {'Amount': 150, 'Product': 'Nachos', 'Quantity': 45}\n",
            "11127 {'Amount': 90, 'Product': 'Sausages', 'Quantity': 44}\n",
            "11128 {'Amount': 100, 'Product': 'Kebab', 'Quantity': 10}\n",
            "11129 {'Amount': 130, 'Product': 'Tacos', 'Quantity': 16}\n",
            "11130 {'Amount': 145, 'Product': 'Lavacake', 'Quantity': 8}\n",
            "11131 {'product': 'Smoothie', 'Quantity': 17, 'Amount': 140}\n",
            "-------------------------------------------\n",
            "Enter the product ID:11101\n",
            "Enter the quantity:13\n",
            "----------------------------------------\n",
            "Expiry date: Wed Sep 15 16:35:18 2021\n",
            "--------------------------------------------\n",
            "Product: Cookies\n",
            "Amount: 15\n",
            "Billing Amount: 195\n",
            "----------------------------------------\n",
            "------------------------------\n",
            "Data Updated in Sales File!\n",
            "Data Updated in Inventory File!\n"
          ]
        }
      ]
    },
    {
      "cell_type": "code",
      "metadata": {
        "colab": {
          "base_uri": "https://localhost:8080/"
        },
        "id": "hdbTjIdjToL9",
        "outputId": "69aca0fa-af17-4d45-e36b-5db3ad5d4d92"
      },
      "source": [
        "items"
      ],
      "execution_count": 37,
      "outputs": [
        {
          "output_type": "execute_result",
          "data": {
            "text/plain": [
              "{'11101': {'Amount': 15, 'Product': 'Cookies', 'Quantity': 27},\n",
              " '11102': {'Amount': 30, 'Product': 'Coca Cola', 'Quantity': 20},\n",
              " '11103': {'Amount': 5, 'Product': 'Lays', 'Quantity': 100},\n",
              " '11104': {'Amount': 100, 'Product': 'Cappuccino', 'Quantity': 10},\n",
              " '11105': {'Amount': 50, 'Product': 'Brownies', 'Quantity': 30},\n",
              " '11106': {'Amount': 10, 'Product': 'Chocolate', 'Quantity': 68},\n",
              " '11107': {'Amount': 250, 'Product': 'Pizza', 'Quantity': 6},\n",
              " '11108': {'Amount': 199, 'Product': 'Burger', 'Quantity': 10},\n",
              " '11109': {'Amount': 100, 'Product': 'Icecream', 'Quantity': 34},\n",
              " '11110': {'Amount': 200, 'Product': 'Cake', 'Quantity': 20},\n",
              " '11111': {'Amount': 80, 'Product': 'Sandwhich', 'Quantity': 30},\n",
              " '11112': {'Amount': 120, 'Product': 'Donut', 'Quantity': 15},\n",
              " '11113': {'Amount': 40, 'Product': 'Milkshake', 'Quantity': 25},\n",
              " '11114': {'Amount': 20, 'Product': 'Wafersticks', 'Quantity': 67},\n",
              " '11115': {'Amount': 200, 'Product': 'Frenchfries', 'Quantity': 94},\n",
              " '11116': {'Amount': 148, 'Product': 'Pringles', 'Quantity': 35},\n",
              " '11117': {'Amount': 40, 'Product': 'Popcorn', 'Quantity': 22},\n",
              " '11118': {'Amount': 28, 'Product': 'Noodles', 'Quantity': 8},\n",
              " '11119': {'Amount': 100, 'Product': 'Pancake', 'Quantity': 13},\n",
              " '11120': {'Amount': 250, 'Product': 'Jelly', 'Quantity': 33},\n",
              " '11121': {'Amount': 75, 'Product': 'Pastry', 'Quantity': 5},\n",
              " '11122': {'Amount': 270, 'Product': 'Gulab jamun', 'Quantity': 48},\n",
              " '11123': {'Amount': 500, 'Product': 'Spaghetti', 'Quantity': 27},\n",
              " '11124': {'Amount': 170, 'Product': 'Jam', 'Quantity': 56},\n",
              " '11125': {'Amount': 110, 'Product': 'Pasta', 'Quantity': 4},\n",
              " '11126': {'Amount': 150, 'Product': 'Nachos', 'Quantity': 45},\n",
              " '11127': {'Amount': 90, 'Product': 'Sausages', 'Quantity': 44},\n",
              " '11128': {'Amount': 100, 'Product': 'Kebab', 'Quantity': 10},\n",
              " '11129': {'Amount': 130, 'Product': 'Tacos', 'Quantity': 16},\n",
              " '11130': {'Amount': 145, 'Product': 'Lavacake', 'Quantity': 8},\n",
              " '11131': {'Amount': 140, 'Quantity': 17, 'product': 'Smoothie'}}"
            ]
          },
          "metadata": {},
          "execution_count": 37
        }
      ]
    },
    {
      "cell_type": "code",
      "metadata": {
        "colab": {
          "base_uri": "https://localhost:8080/"
        },
        "id": "CKNfkjYrS6kM",
        "outputId": "da1e7831-d0cb-498a-c73a-403b619209d8"
      },
      "source": [
        "sales"
      ],
      "execution_count": 38,
      "outputs": [
        {
          "output_type": "execute_result",
          "data": {
            "text/plain": [
              "{'1': {'Bill': 120,\n",
              "  'Time': 'Wed Sep 15 16:36:19 2021',\n",
              "  'price': 10,\n",
              "  'product_id': '11106',\n",
              "  'product_name': 'Chocolate',\n",
              "  'quantity': 12},\n",
              " '2': {'Bill': 160,\n",
              "  'Time': 'Wed Sep 15 16:37:45 2021',\n",
              "  'price': 20,\n",
              "  'product_id': '11114',\n",
              "  'product_name': 'Wafersticks',\n",
              "  'quantity': 8},\n",
              " '3': {'Bill': 195,\n",
              "  'Time': 'Wed Sep 15 16:38:30 2021',\n",
              "  'price': 15,\n",
              "  'product_id': '11101',\n",
              "  'product_name': 'Cookies',\n",
              "  'quantity': 13}}"
            ]
          },
          "metadata": {},
          "execution_count": 38
        }
      ]
    }
  ]
}