{
  "nbformat": 4,
  "nbformat_minor": 0,
  "metadata": {
    "colab": {
      "name": "Adding new products.ipynb",
      "provenance": [],
      "collapsed_sections": []
    },
    "kernelspec": {
      "name": "python3",
      "display_name": "Python 3"
    },
    "language_info": {
      "name": "python"
    }
  },
  "cells": [
    {
      "cell_type": "code",
      "metadata": {
        "id": "kE_1ZnQabDrO"
      },
      "source": [
        "import json"
      ],
      "execution_count": 1,
      "outputs": []
    },
    {
      "cell_type": "code",
      "metadata": {
        "id": "fqSpFEQz0zds"
      },
      "source": [
        "record={'11101': {'Amount': 15, 'Product': 'Cookies', 'Quantity': 40},\n",
        " '11102': {'Amount': 30, 'Product': 'Coca Cola', 'Quantity': 20},\n",
        " '11103': {'Amount': 5, 'Product': 'Lays', 'Quantity': 100},\n",
        " '11104': {'Amount': 100, 'Product': 'Cappuccino', 'Quantity': 10},\n",
        " '11105': {'Amount': 50, 'Product': 'Brownies', 'Quantity': 30},\n",
        " '11106': {'Amount': 10, 'Product': 'Chocolate', 'Quantity': 80},\n",
        " '11107': {'Amount': 250, 'Product': 'Pizza', 'Quantity': 6},\n",
        " '11108': {'Amount': 199, 'Product': 'Burger', 'Quantity': 10},\n",
        " '11109': {'Amount': 100, 'Product': 'Icecream', 'Quantity': 40},\n",
        " '11110': {'Amount': 200, 'Product': 'Cake', 'Quantity': 20},\n",
        " '11111': {'Amount': 80, 'Product': 'Sandwhich', 'Quantity': 30},\n",
        " '11112': {'Amount': 120, 'Product': 'Donut', 'Quantity': 15},\n",
        " '11113': {'Amount': 40, 'Product': 'Milkshake', 'Quantity': 25},\n",
        " '11114': {'Amount': 20, 'Product': 'Wafersticks', 'Quantity': 75},\n",
        " '11115': {'Amount': 200, 'Product': 'Frenchfries', 'Quantity': 94},\n",
        " '11116': {'Amount': 148, 'Product': 'Pringles', 'Quantity': 35},\n",
        " '11117': {'Amount': 40, 'Product': 'Popcorn', 'Quantity': 22},\n",
        " '11118': {'Amount': 28, 'Product': 'Noodles', 'Quantity': 8},\n",
        " '11119': {'Amount': 100, 'Product': 'Pancake', 'Quantity': 13},\n",
        " '11120': {'Amount': 250, 'Product': 'Jelly', 'Quantity': 33},\n",
        " '11121': {'Amount': 75, 'Product': 'Pastry', 'Quantity': 5},\n",
        " '11122': {'Amount': 270, 'Product': 'Gulab jamun', 'Quantity': 48},\n",
        " '11123': {'Amount': 500, 'Product': 'Spaghetti', 'Quantity': 27},\n",
        " '11124': {'Amount': 170, 'Product': 'Jam', 'Quantity': 56},\n",
        " '11125': {'Amount': 110, 'Product': 'Pasta', 'Quantity': 4},\n",
        " '11126': {'Amount': 150, 'Product': 'Nachos', 'Quantity': 50},\n",
        " '11127': {'Amount': 90, 'Product': 'Sausages', 'Quantity': 44},\n",
        " '11128': {'Amount': 100, 'Product': 'Kebab', 'Quantity': 10},\n",
        " '11129': {'Amount': 130, 'Product': 'Tacos', 'Quantity': 16},\n",
        " '11130': {'Amount': 145, 'Product': 'Lavacake', 'Quantity': 8}}"
      ],
      "execution_count": 3,
      "outputs": []
    },
    {
      "cell_type": "code",
      "metadata": {
        "id": "FmurmWlR1qeG"
      },
      "source": [
        "js=json.dumps(record)\n",
        "fd=open(\"record.json\",'w')\n",
        "fd.write(js)\n",
        "fd.close()"
      ],
      "execution_count": 4,
      "outputs": []
    },
    {
      "cell_type": "code",
      "metadata": {
        "id": "KF35UQIMOmVA"
      },
      "source": [
        "fd=open(\"record.json\",'r')\n",
        "r=fd.read()\n",
        "fd.close()"
      ],
      "execution_count": 5,
      "outputs": []
    },
    {
      "cell_type": "code",
      "metadata": {
        "id": "DJxeR_k4bhmh"
      },
      "source": [
        "record=json.loads(r)"
      ],
      "execution_count": 6,
      "outputs": []
    },
    {
      "cell_type": "code",
      "metadata": {
        "colab": {
          "base_uri": "https://localhost:8080/"
        },
        "id": "TEHvlvdfo6tP",
        "outputId": "bff7258b-dff0-4992-a292-48fa5f5be33e"
      },
      "source": [
        "print(record)"
      ],
      "execution_count": 7,
      "outputs": [
        {
          "output_type": "stream",
          "name": "stdout",
          "text": [
            "{'11101': {'Amount': 15, 'Product': 'Cookies', 'Quantity': 40}, '11102': {'Amount': 30, 'Product': 'Coca Cola', 'Quantity': 20}, '11103': {'Amount': 5, 'Product': 'Lays', 'Quantity': 100}, '11104': {'Amount': 100, 'Product': 'Cappuccino', 'Quantity': 10}, '11105': {'Amount': 50, 'Product': 'Brownies', 'Quantity': 30}, '11106': {'Amount': 10, 'Product': 'Chocolate', 'Quantity': 80}, '11107': {'Amount': 250, 'Product': 'Pizza', 'Quantity': 6}, '11108': {'Amount': 199, 'Product': 'Burger', 'Quantity': 10}, '11109': {'Amount': 100, 'Product': 'Icecream', 'Quantity': 40}, '11110': {'Amount': 200, 'Product': 'Cake', 'Quantity': 20}, '11111': {'Amount': 80, 'Product': 'Sandwhich', 'Quantity': 30}, '11112': {'Amount': 120, 'Product': 'Donut', 'Quantity': 15}, '11113': {'Amount': 40, 'Product': 'Milkshake', 'Quantity': 25}, '11114': {'Amount': 20, 'Product': 'Wafersticks', 'Quantity': 75}, '11115': {'Amount': 200, 'Product': 'Frenchfries', 'Quantity': 94}, '11116': {'Amount': 148, 'Product': 'Pringles', 'Quantity': 35}, '11117': {'Amount': 40, 'Product': 'Popcorn', 'Quantity': 22}, '11118': {'Amount': 28, 'Product': 'Noodles', 'Quantity': 8}, '11119': {'Amount': 100, 'Product': 'Pancake', 'Quantity': 13}, '11120': {'Amount': 250, 'Product': 'Jelly', 'Quantity': 33}, '11121': {'Amount': 75, 'Product': 'Pastry', 'Quantity': 5}, '11122': {'Amount': 270, 'Product': 'Gulab jamun', 'Quantity': 48}, '11123': {'Amount': 500, 'Product': 'Spaghetti', 'Quantity': 27}, '11124': {'Amount': 170, 'Product': 'Jam', 'Quantity': 56}, '11125': {'Amount': 110, 'Product': 'Pasta', 'Quantity': 4}, '11126': {'Amount': 150, 'Product': 'Nachos', 'Quantity': 50}, '11127': {'Amount': 90, 'Product': 'Sausages', 'Quantity': 44}, '11128': {'Amount': 100, 'Product': 'Kebab', 'Quantity': 10}, '11129': {'Amount': 130, 'Product': 'Tacos', 'Quantity': 16}, '11130': {'Amount': 145, 'Product': 'Lavacake', 'Quantity': 8}}\n"
          ]
        }
      ]
    },
    {
      "cell_type": "code",
      "metadata": {
        "colab": {
          "base_uri": "https://localhost:8080/"
        },
        "id": "6TKPr4jfo64l",
        "outputId": "fdcd7f56-1206-48ac-f51e-1875fb31eefb"
      },
      "source": [
        "product_id=str(input(\"Enter product ID:\"))\n",
        "product=str(input(\"Enter product:\"))\n",
        "Amount=int(input(\"Enter amount:\"))\n",
        "Quantity=int(input(\"Enter quantity:\"))\n",
        "record[product_id]={'product':product,'Quantity':Quantity,'Amount':Amount}"
      ],
      "execution_count": 8,
      "outputs": [
        {
          "name": "stdout",
          "output_type": "stream",
          "text": [
            "Enter product ID:11131\n",
            "Enter product:Smoothie\n",
            "Enter amount:140\n",
            "Enter quantity:17\n"
          ]
        }
      ]
    },
    {
      "cell_type": "code",
      "metadata": {
        "id": "wWI_B-6Wo67u"
      },
      "source": [
        "js=json.dumps(record)\n",
        "fd=open(\"record.json\",'w')\n",
        "fd.write(js)\n",
        "fd.close()"
      ],
      "execution_count": 9,
      "outputs": []
    },
    {
      "cell_type": "code",
      "metadata": {
        "colab": {
          "base_uri": "https://localhost:8080/",
          "height": 307
        },
        "id": "-EAInM9No6_T",
        "outputId": "64d7919d-8173-4fda-f657-1fc1ee1655fa"
      },
      "source": [
        "js"
      ],
      "execution_count": 10,
      "outputs": [
        {
          "output_type": "execute_result",
          "data": {
            "application/vnd.google.colaboratory.intrinsic+json": {
              "type": "string"
            },
            "text/plain": [
              "'{\"11101\": {\"Amount\": 15, \"Product\": \"Cookies\", \"Quantity\": 40}, \"11102\": {\"Amount\": 30, \"Product\": \"Coca Cola\", \"Quantity\": 20}, \"11103\": {\"Amount\": 5, \"Product\": \"Lays\", \"Quantity\": 100}, \"11104\": {\"Amount\": 100, \"Product\": \"Cappuccino\", \"Quantity\": 10}, \"11105\": {\"Amount\": 50, \"Product\": \"Brownies\", \"Quantity\": 30}, \"11106\": {\"Amount\": 10, \"Product\": \"Chocolate\", \"Quantity\": 80}, \"11107\": {\"Amount\": 250, \"Product\": \"Pizza\", \"Quantity\": 6}, \"11108\": {\"Amount\": 199, \"Product\": \"Burger\", \"Quantity\": 10}, \"11109\": {\"Amount\": 100, \"Product\": \"Icecream\", \"Quantity\": 40}, \"11110\": {\"Amount\": 200, \"Product\": \"Cake\", \"Quantity\": 20}, \"11111\": {\"Amount\": 80, \"Product\": \"Sandwhich\", \"Quantity\": 30}, \"11112\": {\"Amount\": 120, \"Product\": \"Donut\", \"Quantity\": 15}, \"11113\": {\"Amount\": 40, \"Product\": \"Milkshake\", \"Quantity\": 25}, \"11114\": {\"Amount\": 20, \"Product\": \"Wafersticks\", \"Quantity\": 75}, \"11115\": {\"Amount\": 200, \"Product\": \"Frenchfries\", \"Quantity\": 94}, \"11116\": {\"Amount\": 148, \"Product\": \"Pringles\", \"Quantity\": 35}, \"11117\": {\"Amount\": 40, \"Product\": \"Popcorn\", \"Quantity\": 22}, \"11118\": {\"Amount\": 28, \"Product\": \"Noodles\", \"Quantity\": 8}, \"11119\": {\"Amount\": 100, \"Product\": \"Pancake\", \"Quantity\": 13}, \"11120\": {\"Amount\": 250, \"Product\": \"Jelly\", \"Quantity\": 33}, \"11121\": {\"Amount\": 75, \"Product\": \"Pastry\", \"Quantity\": 5}, \"11122\": {\"Amount\": 270, \"Product\": \"Gulab jamun\", \"Quantity\": 48}, \"11123\": {\"Amount\": 500, \"Product\": \"Spaghetti\", \"Quantity\": 27}, \"11124\": {\"Amount\": 170, \"Product\": \"Jam\", \"Quantity\": 56}, \"11125\": {\"Amount\": 110, \"Product\": \"Pasta\", \"Quantity\": 4}, \"11126\": {\"Amount\": 150, \"Product\": \"Nachos\", \"Quantity\": 50}, \"11127\": {\"Amount\": 90, \"Product\": \"Sausages\", \"Quantity\": 44}, \"11128\": {\"Amount\": 100, \"Product\": \"Kebab\", \"Quantity\": 10}, \"11129\": {\"Amount\": 130, \"Product\": \"Tacos\", \"Quantity\": 16}, \"11130\": {\"Amount\": 145, \"Product\": \"Lavacake\", \"Quantity\": 8}, \"11131\": {\"product\": \"Smoothie\", \"Quantity\": 17, \"Amount\": 140}}'"
            ]
          },
          "metadata": {},
          "execution_count": 10
        }
      ]
    },
    {
      "cell_type": "code",
      "metadata": {
        "id": "abf2Gte3o7C4"
      },
      "source": [
        ""
      ],
      "execution_count": null,
      "outputs": []
    },
    {
      "cell_type": "code",
      "metadata": {
        "id": "IwRk7ymBo7GY"
      },
      "source": [
        ""
      ],
      "execution_count": null,
      "outputs": []
    },
    {
      "cell_type": "code",
      "metadata": {
        "id": "X33n7LTso7N4"
      },
      "source": [
        ""
      ],
      "execution_count": null,
      "outputs": []
    },
    {
      "cell_type": "code",
      "metadata": {
        "id": "8CRILpK-o7Ry"
      },
      "source": [
        ""
      ],
      "execution_count": null,
      "outputs": []
    },
    {
      "cell_type": "code",
      "metadata": {
        "id": "uFLb05fco7V0"
      },
      "source": [
        ""
      ],
      "execution_count": null,
      "outputs": []
    },
    {
      "cell_type": "code",
      "metadata": {
        "id": "sf7uFhBoo7ZH"
      },
      "source": [
        ""
      ],
      "execution_count": null,
      "outputs": []
    }
  ]
}